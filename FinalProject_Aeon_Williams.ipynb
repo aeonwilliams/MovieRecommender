{
 "cells": [
  {
   "cell_type": "markdown",
   "metadata": {},
   "source": [
    "Aeon Williams \n",
    "\n",
    "CS397 DigiPen Spring 2020"
   ]
  },
  {
   "cell_type": "code",
   "execution_count": 1,
   "metadata": {},
   "outputs": [],
   "source": [
    "import numpy as np\n",
    "import pandas as pd\n",
    "from sklearn.feature_extraction.text import CountVectorizer\n",
    "from sklearn.metrics.pairwise import cosine_similarity\n",
    "from ast import literal_eval\n",
    "from sklearn.model_selection import train_test_split\n",
    "from sklearn.metrics import mean_squared_error\n",
    "from surprise import Reader\n",
    "from surprise import Dataset\n",
    "from surprise import KNNBasic\n",
    "from surprise.model_selection import cross_validate\n",
    "from collections import defaultdict\n",
    "import heapq\n",
    "from operator import itemgetter, attrgetter"
   ]
  },
  {
   "cell_type": "markdown",
   "metadata": {},
   "source": [
    "# Data Wrangling"
   ]
  },
  {
   "cell_type": "code",
   "execution_count": 2,
   "metadata": {},
   "outputs": [],
   "source": [
    "#read in the raw movie data\n",
    "df = pd.read_csv('./data/movies/movies_metadata.csv', low_memory=False)\n",
    "df['id'] = pd.to_numeric(df['id'], errors='coerce')"
   ]
  },
  {
   "cell_type": "code",
   "execution_count": 3,
   "metadata": {},
   "outputs": [],
   "source": [
    "#read in the keywords data\n",
    "df_keywords = pd.read_csv('./data/movies/keywords.csv', low_memory=False)\n",
    "df_keywords['id'] = pd.to_numeric(df_keywords['id'], errors='coerce')\n",
    "df_keywords = df.merge(df_keywords, on='id')"
   ]
  },
  {
   "cell_type": "code",
   "execution_count": 4,
   "metadata": {},
   "outputs": [],
   "source": [
    "#find the director in the list of crew\n",
    "def get_director(x):\n",
    "    for crew_member in x:\n",
    "        if crew_member['job'] == 'Director':\n",
    "            return crew_member['name']\n",
    "    return ''"
   ]
  },
  {
   "cell_type": "code",
   "execution_count": 5,
   "metadata": {},
   "outputs": [],
   "source": [
    "#read in the credits data and merge it with the movies & keywords data\n",
    "df_credits = pd.read_csv('./data/movies/credits.csv', low_memory=False)\n",
    "df_credits['id'] = pd.to_numeric(df_credits['id'], errors='coerce')\n",
    "df_credits = df_keywords.merge(df_credits, on='id')\n",
    "\n",
    "df_credits = df_credits[['keywords', 'genres', 'id', 'original_language', 'overview', 'status', 'title', 'vote_average', 'vote_count', 'cast', 'crew']]\n",
    "df_credits['index'] = np.arange(len(df_credits))"
   ]
  },
  {
   "cell_type": "code",
   "execution_count": 6,
   "metadata": {},
   "outputs": [],
   "source": [
    "#parse the lists for ease of analytics later\n",
    "categories = ['genres', 'cast', 'keywords', 'crew']\n",
    "\n",
    "for category in categories:\n",
    "    df_credits[category] = df_credits[category].fillna('')\n",
    "    df_credits[category] = df_credits[category].apply(literal_eval)\n",
    "    if category == 'crew':\n",
    "        df_credits[category] = df_credits[category].apply(get_director)\n",
    "    else:\n",
    "        df_credits[category] = df_credits[category].apply(lambda x : [i['name'] for i in x] if isinstance(x, list) else [])\n",
    "        df_credits[category] = [' '.join(l) for l in df_credits[category]]"
   ]
  },
  {
   "cell_type": "code",
   "execution_count": 7,
   "metadata": {},
   "outputs": [],
   "source": [
    "#create a dataset with easy to search for titles\n",
    "df_titles = df_credits.copy()\n",
    "df_titles['title'] = df_titles['title'].str.lower()"
   ]
  },
  {
   "cell_type": "code",
   "execution_count": 8,
   "metadata": {},
   "outputs": [],
   "source": [
    "#populate a list of a user's top 3 favorite movies, from the database\n",
    "def user_movies(movies):\n",
    "    iterations = 0\n",
    "    while len(movies) < 3 and iterations < 10:\n",
    "        movie = input(str(len(movies) + 1) + \": \").lower()\n",
    "        if movie in df_titles['title'].values:\n",
    "            movies.append(movie)\n",
    "        else:\n",
    "            print(\"Sorry, that wasn't found in our database. Please try another movie!\")\n",
    "            iterations += 1"
   ]
  },
  {
   "cell_type": "code",
   "execution_count": 9,
   "metadata": {},
   "outputs": [],
   "source": [
    "#create a combined row of all the information we care about\n",
    "def combine(row):\n",
    "    return row['keywords'] + ' ' + row['genres'] + ' ' + row['cast'] + ' ' + row['crew'] + ' ' + row['original_language']"
   ]
  },
  {
   "cell_type": "code",
   "execution_count": 10,
   "metadata": {},
   "outputs": [],
   "source": [
    "#create a recommender based on the similarity of movies using genres, cast, and crew\n",
    "def knowledge_based():\n",
    "    df_combined = df_credits.copy()\n",
    "    categories = ['genres', 'cast', 'crew', 'original_language', 'keywords']\n",
    "    \n",
    "    for category in categories:\n",
    "        df_combined[category] = df_combined[category].fillna('')\n",
    "\n",
    "    df_combined['combined'] = df_combined.apply(combine, axis=1)\n",
    "\n",
    "    cv = CountVectorizer()\n",
    "    matrix = cv.fit_transform(df_combined['combined'])\n",
    "    cosine = cosine_similarity(matrix)\n",
    "    return cosine"
   ]
  },
  {
   "cell_type": "code",
   "execution_count": null,
   "metadata": {},
   "outputs": [],
   "source": [
    "#find the cosine similarity based on generes, cast, and crew  \n",
    "cosine = knowledge_based()"
   ]
  },
  {
   "cell_type": "code",
   "execution_count": null,
   "metadata": {},
   "outputs": [],
   "source": [
    "#get the title of a movie based on the index\n",
    "def get_title(index):\n",
    "    return df_credits[df_credits.index == index]['title'].values[0]"
   ]
  },
  {
   "cell_type": "code",
   "execution_count": null,
   "metadata": {},
   "outputs": [],
   "source": [
    "#get an index of a movie based on the title\n",
    "def get_index(title):\n",
    "    title = title.lower()\n",
    "    return df_titles[df_titles.title == title]['index'].values[0]"
   ]
  },
  {
   "cell_type": "code",
   "execution_count": null,
   "metadata": {},
   "outputs": [],
   "source": [
    "#local variable setup\n",
    "movies = []\n",
    "movies_enjoyed = []\n",
    "userID = 6969"
   ]
  },
  {
   "cell_type": "code",
   "execution_count": null,
   "metadata": {},
   "outputs": [],
   "source": [
    "#ratings data for collab filter\n",
    "df_ratings = pd.read_csv('./data/movies/ratings.csv', low_memory=False)\n",
    "df_ratings.drop('timestamp', axis=1, inplace=True)"
   ]
  },
  {
   "cell_type": "markdown",
   "metadata": {},
   "source": [
    "# Recommenders"
   ]
  },
  {
   "cell_type": "code",
   "execution_count": null,
   "metadata": {},
   "outputs": [],
   "source": [
    "#recommender based ONLY on user ratings\n",
    "def collab_filter():\n",
    "    reader = Reader(rating_scale=(1,5))\n",
    "    data = Dataset.load_from_df(df_ratings, reader)\n",
    "    training = data.build_full_trainset()\n",
    "    knn = KNNBasic({'name':'cosine', 'user_based':True})\n",
    "    knn.fit(training)\n",
    "    matrix = knn.compute_similarities()\n",
    "    \n",
    "    userInnerID = training.to_inner_uid(userID)\n",
    "    row = matrix[userInnerID]\n",
    "    similarUsers = []\n",
    "    for innerID, score in enumerate(row):\n",
    "        if innerID != userInnerID:\n",
    "            similarUsers.append((innerID, score))\n",
    "\n",
    "    kNeighbors = heapq.nlargest(10, similarUsers, key=lambda t: t[1])\n",
    "    candidates = defaultdict(float)\n",
    "\n",
    "    for similarUser in kNeighbors:\n",
    "        innerID = similarUser[0]\n",
    "        userSimilarityScore = similarUser[1]\n",
    "        theirRating = training.ur[innerID]\n",
    "        for rating in theirRating:\n",
    "            candidates[rating[0]] += (rating[1] / 5.0) * userSimilarityScore\n",
    "\n",
    "    watched = {}\n",
    "    for itemID, rating in training.ur[userInnerID]:\n",
    "        watched[itemID] = 1\n",
    "    \n",
    "    pos = 0\n",
    "    print('\\n\\nThese are some other movies you might enjoy: \\n')\n",
    "    for itemID, ratingSum in sorted(candidates.items(), key=itemgetter(1), reverse=True):\n",
    "        if not itemID in watched:\n",
    "            movieID = training.to_raw_iid(itemID)\n",
    "            if not get_title(movieID) in movies:\n",
    "                print(get_title(movieID))\n",
    "                pos += 1\n",
    "                if(pos > 10):\n",
    "                    break"
   ]
  },
  {
   "cell_type": "code",
   "execution_count": null,
   "metadata": {},
   "outputs": [],
   "source": [
    "#rate a movie and add it to the ratings dataframe\n",
    "def rate(df, title, rating=0):\n",
    "    if rating != 5:\n",
    "        rating = int(input('Rate the movie between 1-5: '))\n",
    "    if rating > 3:\n",
    "        movies_enjoyed.append(title)\n",
    "    title = title.lower()\n",
    "    df_new = pd.DataFrame({'userId':[userID],\n",
    "                          'movieId':get_index(title),\n",
    "                           'rating':rating})\n",
    "    return df.append(df_new, ignore_index=True)"
   ]
  },
  {
   "cell_type": "code",
   "execution_count": null,
   "metadata": {},
   "outputs": [],
   "source": [
    "#recommender based ONLY on user's liked movies\n",
    "def knowledge_based():\n",
    "    sorted_similar_movies = []\n",
    "    for i in range(len(movies_enjoyed)):\n",
    "        movie_index = get_index(movies_enjoyed[i])\n",
    "        similar_movies = (list(enumerate(cosine[movie_index])))\n",
    "        similar_movies = sorted(similar_movies,key=lambda x:x[1],reverse=True)[1:]\n",
    "        for i in range(500):\n",
    "            if get_title(similar_movies[i][0]) in movies_enjoyed or get_title(similar_movies[i][0]) in movies:\n",
    "                similar_movies.remove(similar_movies[i])\n",
    "        sorted_similar_movies.extend(similar_movies[0:10])\n",
    "\n",
    "    sorted_similar_movies = sorted(sorted_similar_movies,key=lambda x:x[1],reverse=True)[1:]\n",
    "\n",
    "    print(\"\\n\\nThese are some other movies you might enjoy:\\n\")\n",
    "    sorted_similar_movies = list(set(sorted_similar_movies))\n",
    "    length = 10 if len(sorted_similar_movies) > 15 else len(sorted_similar_movies)\n",
    "    for i in range(length):\n",
    "        print('-' + get_title(sorted_similar_movies[i][0]))"
   ]
  },
  {
   "cell_type": "markdown",
   "metadata": {},
   "source": [
    "# User loop"
   ]
  },
  {
   "cell_type": "code",
   "execution_count": null,
   "metadata": {},
   "outputs": [],
   "source": [
    "## generate initial recommendation list\n",
    "print(\"What are your top three favorite movies (in no specific order)?\")\n",
    "\n",
    "#movies = ['Alien: Covenant', 'Ice Age', 'Jumanji']\n",
    "movies = []\n",
    "while(len(movies) < 1):\n",
    "    user_movies(movies)\n",
    "\n",
    "movies_enjoyed = movies.copy()\n",
    "\n",
    "for i in range(len(movies)):\n",
    "    df_ratings = rate(df_ratings, movies[i], 5)\n",
    "\n",
    "knowledge_based()\n",
    "\n",
    "#let the user use the software to watch movies and rate them and get recommendations\n",
    "choice = -1\n",
    "while choice != 0:\n",
    "    print('\\n\\nPress 0 to exit, 1 to watch, 2 to rate:')\n",
    "    choice = int(input())\n",
    "    if choice == 0:\n",
    "        break\n",
    "    flavour = 'What movie would you like to '\n",
    "    if choice == 1:\n",
    "        flavour += 'watch: '\n",
    "    elif choice == 2:\n",
    "        flavour += 'rate: '\n",
    "    else:\n",
    "        continue\n",
    "    movie = input(flavour).lower()\n",
    "    if movie not in df_titles['title'].values:\n",
    "        print(\"Sorry, that wasn't found in our database. Please try another movie!\")\n",
    "        continue\n",
    "    elif movie in movies:\n",
    "        print(\"This movie has already been watched. Please try another movie!\")\n",
    "        continue\n",
    "    else:\n",
    "        movies.append(movie)\n",
    "        df_ratings = rate(df_ratings, movie)\n",
    "        movies = list(set(movies))\n",
    "        movies_enjoyed = list(set(movies_enjoyed))\n",
    "    if choice == 1:\n",
    "        #this would realistically have a higher threshold for real-world use\n",
    "        if(len(movies) < 4):\n",
    "            knowledge_based()\n",
    "        else:\n",
    "            collab_filter()"
   ]
  }
 ],
 "metadata": {
  "kernelspec": {
   "display_name": "Python 3",
   "language": "python",
   "name": "python3"
  },
  "language_info": {
   "codemirror_mode": {
    "name": "ipython",
    "version": 3
   },
   "file_extension": ".py",
   "mimetype": "text/x-python",
   "name": "python",
   "nbconvert_exporter": "python",
   "pygments_lexer": "ipython3",
   "version": "3.7.4"
  }
 },
 "nbformat": 4,
 "nbformat_minor": 2
}
